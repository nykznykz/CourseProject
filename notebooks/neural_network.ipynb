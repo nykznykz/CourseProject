{
 "cells": [
  {
   "cell_type": "code",
   "execution_count": 1,
   "metadata": {},
   "outputs": [],
   "source": [
    "import pandas as pd\n",
    "import tensorflow as tf\n",
    "from tensorflow import keras\n",
    "from tensorflow.keras import layers\n",
    "import numpy as np\n",
    "import re\n",
    "from sklearn.feature_extraction.text import TfidfVectorizer\n",
    "from scipy.special import softmax\n",
    "from sklearn.metrics import accuracy_score\n",
    "from sklearn.metrics import mean_squared_error\n",
    "import math"
   ]
  },
  {
   "cell_type": "code",
   "execution_count": 2,
   "metadata": {},
   "outputs": [],
   "source": [
    "recipes = pd.read_csv(\"../data/recipes/all_recipes.csv\")\n",
    "reviews = pd.read_csv(\"../data/users/all_users.csv\")"
   ]
  },
  {
   "cell_type": "code",
   "execution_count": 3,
   "metadata": {},
   "outputs": [],
   "source": [
    "transformed_user_ids = pd.DataFrame(reviews.user_id.unique()).reset_index()\n",
    "transformed_user_ids.columns = [\"transformed_user_id\",\"user_id\"]"
   ]
  },
  {
   "cell_type": "code",
   "execution_count": 4,
   "metadata": {},
   "outputs": [],
   "source": [
    "transformed_recipe_ids = pd.DataFrame(reviews.recipe_id.unique()).reset_index()\n",
    "transformed_recipe_ids.columns = [\"transformed_recipe_id\",\"recipe_id\"]"
   ]
  },
  {
   "cell_type": "code",
   "execution_count": 5,
   "metadata": {},
   "outputs": [],
   "source": [
    "reviews = reviews.merge(transformed_user_ids, on=\"user_id\")\n",
    "reviews = reviews.merge(transformed_recipe_ids, on=\"recipe_id\")"
   ]
  },
  {
   "cell_type": "code",
   "execution_count": 6,
   "metadata": {},
   "outputs": [],
   "source": [
    "# reviews[\"transformed_rating\"] = reviews.rating - 1"
   ]
  },
  {
   "cell_type": "code",
   "execution_count": 7,
   "metadata": {},
   "outputs": [],
   "source": [
    "user_vocab_size = reviews.transformed_user_id.max()\n",
    "item_vocab_size = reviews.transformed_recipe_id.max()"
   ]
  },
  {
   "cell_type": "code",
   "execution_count": 8,
   "metadata": {},
   "outputs": [],
   "source": [
    "tf.keras.backend.clear_session()\n",
    "np.random.seed(42)\n",
    "tf.random.set_seed(42)\n",
    "\n",
    "item_embedding_layer = layers.Embedding(input_dim = item_vocab_size + 1, output_dim=128, input_length = None)\n",
    "item_id = keras.Input(shape=(1,), name='item_ids')\n",
    "item_embeddings = item_embedding_layer(item_id)\n",
    "item_embeddings = layers.Dropout(rate=0.3)(item_embeddings)\n",
    "item_embeddings = layers.Flatten()(item_embeddings)\n",
    "item_embeddings = keras.Model(inputs=item_id, outputs=item_embeddings)\n",
    "\n",
    "user_id = keras.Input(shape=(1,), name='user_ids')\n",
    "user_embeddings = layers.Embedding(input_dim = user_vocab_size + 1, output_dim=128, input_length = None)(user_id)\n",
    "user_embeddings = layers.Dropout(rate=0.3)(user_embeddings)\n",
    "user_embeddings = layers.Flatten()(user_embeddings)\n",
    "user_embeddings = keras.Model(inputs=user_id, outputs=user_embeddings)\n",
    "\n",
    "dot = layers.Dot(axes=1)([user_embeddings.output, item_embeddings.output])\n",
    "s = keras.Model(inputs=[user_id, item_id], outputs=dot)\n",
    "\n",
    "combined = layers.concatenate([user_embeddings.output, item_embeddings.output])\n",
    "z = layers.BatchNormalization(name=\"bn_top_0\")(combined)\n",
    "z = layers.Dense(32, activation='relu', name='top_combined_dense_1')(z)\n",
    "z = layers.Dropout(rate=0.2)(z)\n",
    "z = layers.BatchNormalization(name=\"bn_top_1\")(z)\n",
    "z = layers.Dense(16, activation='relu', name='top_combined_dense_2')(z)\n",
    "z = layers.concatenate([z, s.output])\n",
    "z = layers.Dense(1, name='predictions')(z)\n",
    "model = keras.Model(inputs=[user_id, item_id], outputs=z)"
   ]
  },
  {
   "cell_type": "code",
   "execution_count": 9,
   "metadata": {},
   "outputs": [],
   "source": [
    "model.compile(optimizer=keras.optimizers.Adam(learning_rate=0.001),  # Optimizer\n",
    "              # Loss function to minimize\n",
    "              loss=tf.keras.losses.MSE,  \n",
    "              # List of metrics to monitor\n",
    "              metrics= [keras.metrics.MeanSquaredError()])"
   ]
  },
  {
   "cell_type": "code",
   "execution_count": 10,
   "metadata": {},
   "outputs": [],
   "source": [
    "train = reviews[reviews.date < \"2018-01-01\"]\n",
    "test = reviews[reviews.date >= \"2018-01-01\"]"
   ]
  },
  {
   "cell_type": "code",
   "execution_count": 11,
   "metadata": {},
   "outputs": [],
   "source": [
    "user_id_train = train.transformed_user_id[:-1000]\n",
    "item_id_train = train.transformed_recipe_id[:-1000]\n",
    "y_train = train.rating[:-1000]\n",
    "\n",
    "user_id_test = test.transformed_user_id\n",
    "item_id_test = test.transformed_recipe_id\n",
    "y_test = test.rating\n",
    "\n",
    "user_id_val = train.transformed_user_id[-1000:]\n",
    "item_id_val = train.transformed_recipe_id[-1000:]\n",
    "y_val = train.rating[-1000:]"
   ]
  },
  {
   "cell_type": "code",
   "execution_count": 13,
   "metadata": {},
   "outputs": [
    {
     "name": "stdout",
     "output_type": "stream",
     "text": [
      "Epoch 1/10\n",
      "54/54 [==============================] - 4s 67ms/step - loss: 1.2876 - mean_squared_error: 1.2876 - val_loss: 6.5862 - val_mean_squared_error: 6.5862\n",
      "Epoch 2/10\n",
      "54/54 [==============================] - 4s 66ms/step - loss: 0.8860 - mean_squared_error: 0.8860 - val_loss: 3.2589 - val_mean_squared_error: 3.2589\n",
      "Epoch 3/10\n",
      "54/54 [==============================] - 4s 68ms/step - loss: 0.6809 - mean_squared_error: 0.6809 - val_loss: 1.6457 - val_mean_squared_error: 1.6457\n",
      "Epoch 4/10\n",
      "54/54 [==============================] - 4s 67ms/step - loss: 0.5560 - mean_squared_error: 0.5560 - val_loss: 1.0411 - val_mean_squared_error: 1.0411\n",
      "Epoch 5/10\n",
      "54/54 [==============================] - 4s 70ms/step - loss: 0.4728 - mean_squared_error: 0.4728 - val_loss: 0.8594 - val_mean_squared_error: 0.8594\n",
      "Epoch 6/10\n",
      "54/54 [==============================] - 4s 70ms/step - loss: 0.3973 - mean_squared_error: 0.3973 - val_loss: 0.8233 - val_mean_squared_error: 0.8233\n",
      "Epoch 7/10\n",
      "54/54 [==============================] - 4s 68ms/step - loss: 0.3382 - mean_squared_error: 0.3382 - val_loss: 0.8642 - val_mean_squared_error: 0.8642\n",
      "Epoch 8/10\n",
      "54/54 [==============================] - 4s 70ms/step - loss: 0.2928 - mean_squared_error: 0.2928 - val_loss: 0.9204 - val_mean_squared_error: 0.9204\n",
      "Epoch 9/10\n",
      "54/54 [==============================] - 4s 68ms/step - loss: 0.2589 - mean_squared_error: 0.2589 - val_loss: 0.9535 - val_mean_squared_error: 0.9535\n",
      "Epoch 10/10\n",
      "54/54 [==============================] - 4s 67ms/step - loss: 0.2381 - mean_squared_error: 0.2381 - val_loss: 0.9792 - val_mean_squared_error: 0.9792\n",
      "\n",
      "history dict: {'loss': [1.287615180015564, 0.8860304355621338, 0.6809209585189819, 0.5560032725334167, 0.4727649688720703, 0.39730843901634216, 0.3381701409816742, 0.29279038310050964, 0.25886866450309753, 0.23805417120456696], 'mean_squared_error': [1.287615180015564, 0.8860304355621338, 0.6809209585189819, 0.5560032725334167, 0.4727649688720703, 0.39730843901634216, 0.3381701409816742, 0.29279038310050964, 0.25886866450309753, 0.23805417120456696], 'val_loss': [6.5862226486206055, 3.2588632106781006, 1.6457340717315674, 1.0410786867141724, 0.8594183921813965, 0.8232988119125366, 0.8641886115074158, 0.9204229116439819, 0.9535016417503357, 0.9791634678840637], 'val_mean_squared_error': [6.5862226486206055, 3.2588632106781006, 1.6457340717315674, 1.0410786867141724, 0.8594183921813965, 0.8232988119125366, 0.8641886115074158, 0.9204229116439819, 0.9535016417503357, 0.9791634678840637]}\n"
     ]
    }
   ],
   "source": [
    "keras.backend.clear_session()\n",
    "# del model\n",
    "history = model.fit([user_id_train, item_id_train], y_train,\n",
    "                    batch_size=1000,\n",
    "                    epochs=10,\n",
    "                    # We pass some validation for\n",
    "                    # monitoring validation loss and metrics\n",
    "                    # at the end of each epoch\n",
    "                    validation_data=([user_id_val, item_id_val], y_val)\n",
    "                   )\n",
    "print('\\nhistory dict:', history.history)"
   ]
  },
  {
   "cell_type": "markdown",
   "metadata": {},
   "source": [
    "### Evaluation"
   ]
  },
  {
   "cell_type": "markdown",
   "metadata": {},
   "source": [
    "#### Training metrics"
   ]
  },
  {
   "cell_type": "code",
   "execution_count": 14,
   "metadata": {},
   "outputs": [],
   "source": [
    "predictions = model.predict([user_id_train, item_id_train])"
   ]
  },
  {
   "cell_type": "code",
   "execution_count": 15,
   "metadata": {},
   "outputs": [
    {
     "name": "stdout",
     "output_type": "stream",
     "text": [
      "train rmse: 0.3818415760277013\n"
     ]
    }
   ],
   "source": [
    "print(\"train rmse:\", math.sqrt(mean_squared_error(y_train, predictions)))"
   ]
  },
  {
   "cell_type": "markdown",
   "metadata": {},
   "source": [
    "#### Test metrics"
   ]
  },
  {
   "cell_type": "code",
   "execution_count": 16,
   "metadata": {},
   "outputs": [],
   "source": [
    "predictions = model.predict([user_id_test, item_id_test])"
   ]
  },
  {
   "cell_type": "code",
   "execution_count": 17,
   "metadata": {},
   "outputs": [
    {
     "name": "stdout",
     "output_type": "stream",
     "text": [
      "test rmse: 0.7569037349931316\n"
     ]
    }
   ],
   "source": [
    "print(\"test rmse:\", math.sqrt(mean_squared_error(y_test, predictions)))"
   ]
  },
  {
   "cell_type": "markdown",
   "metadata": {},
   "source": [
    "### Adding content based features to the network"
   ]
  },
  {
   "cell_type": "code",
   "execution_count": 18,
   "metadata": {},
   "outputs": [],
   "source": [
    "recipes = recipes[[\"recipe_id\",\"title\"]]"
   ]
  },
  {
   "cell_type": "code",
   "execution_count": 19,
   "metadata": {},
   "outputs": [],
   "source": [
    "train = train.merge(recipes, how=\"inner\", on=\"recipe_id\")\n",
    "test = test.merge(recipes, how=\"inner\", on=\"recipe_id\")"
   ]
  },
  {
   "cell_type": "code",
   "execution_count": 20,
   "metadata": {},
   "outputs": [
    {
     "data": {
      "text/plain": [
       "(54427, 9)"
      ]
     },
     "execution_count": 20,
     "metadata": {},
     "output_type": "execute_result"
    }
   ],
   "source": [
    "train.shape"
   ]
  },
  {
   "cell_type": "code",
   "execution_count": 21,
   "metadata": {},
   "outputs": [
    {
     "data": {
      "text/plain": [
       "(19282, 9)"
      ]
     },
     "execution_count": 21,
     "metadata": {},
     "output_type": "execute_result"
    }
   ],
   "source": [
    "test.shape"
   ]
  },
  {
   "cell_type": "code",
   "execution_count": 22,
   "metadata": {},
   "outputs": [
    {
     "data": {
      "text/html": [
       "<div>\n",
       "<style scoped>\n",
       "    .dataframe tbody tr th:only-of-type {\n",
       "        vertical-align: middle;\n",
       "    }\n",
       "\n",
       "    .dataframe tbody tr th {\n",
       "        vertical-align: top;\n",
       "    }\n",
       "\n",
       "    .dataframe thead th {\n",
       "        text-align: right;\n",
       "    }\n",
       "</style>\n",
       "<table border=\"1\" class=\"dataframe\">\n",
       "  <thead>\n",
       "    <tr style=\"text-align: right;\">\n",
       "      <th></th>\n",
       "      <th>date</th>\n",
       "      <th>rating</th>\n",
       "      <th>recipe_id</th>\n",
       "      <th>review</th>\n",
       "      <th>user_id</th>\n",
       "      <th>username</th>\n",
       "      <th>transformed_user_id</th>\n",
       "      <th>transformed_recipe_id</th>\n",
       "      <th>title</th>\n",
       "    </tr>\n",
       "  </thead>\n",
       "  <tbody>\n",
       "    <tr>\n",
       "      <th>0</th>\n",
       "      <td>2012-09-11</td>\n",
       "      <td>5</td>\n",
       "      <td>222234</td>\n",
       "      <td>This recipe was delicious! Instead of cherry p...</td>\n",
       "      <td>3419993</td>\n",
       "      <td>Pie84</td>\n",
       "      <td>0</td>\n",
       "      <td>0</td>\n",
       "      <td>Cherry Folditup</td>\n",
       "    </tr>\n",
       "    <tr>\n",
       "      <th>1</th>\n",
       "      <td>2012-12-25</td>\n",
       "      <td>5</td>\n",
       "      <td>222234</td>\n",
       "      <td>Made this recipe as instructed and it was easy...</td>\n",
       "      <td>3154459</td>\n",
       "      <td>hertzen</td>\n",
       "      <td>1</td>\n",
       "      <td>0</td>\n",
       "      <td>Cherry Folditup</td>\n",
       "    </tr>\n",
       "    <tr>\n",
       "      <th>2</th>\n",
       "      <td>2012-11-22</td>\n",
       "      <td>5</td>\n",
       "      <td>222234</td>\n",
       "      <td>This was a great recipe to make using leftover...</td>\n",
       "      <td>10370475</td>\n",
       "      <td>suziloo</td>\n",
       "      <td>2</td>\n",
       "      <td>0</td>\n",
       "      <td>Cherry Folditup</td>\n",
       "    </tr>\n",
       "    <tr>\n",
       "      <th>3</th>\n",
       "      <td>2015-07-07</td>\n",
       "      <td>5</td>\n",
       "      <td>222234</td>\n",
       "      <td>Tasty , simple dessert that comes out cute as ...</td>\n",
       "      <td>2304335</td>\n",
       "      <td>Chelsea M.</td>\n",
       "      <td>3</td>\n",
       "      <td>0</td>\n",
       "      <td>Cherry Folditup</td>\n",
       "    </tr>\n",
       "    <tr>\n",
       "      <th>4</th>\n",
       "      <td>2016-12-31</td>\n",
       "      <td>5</td>\n",
       "      <td>222234</td>\n",
       "      <td>Delicious!! I was pressed for time, so I didn'...</td>\n",
       "      <td>1967176</td>\n",
       "      <td>Amanda H.</td>\n",
       "      <td>4</td>\n",
       "      <td>0</td>\n",
       "      <td>Cherry Folditup</td>\n",
       "    </tr>\n",
       "    <tr>\n",
       "      <th>...</th>\n",
       "      <td>...</td>\n",
       "      <td>...</td>\n",
       "      <td>...</td>\n",
       "      <td>...</td>\n",
       "      <td>...</td>\n",
       "      <td>...</td>\n",
       "      <td>...</td>\n",
       "      <td>...</td>\n",
       "      <td>...</td>\n",
       "    </tr>\n",
       "    <tr>\n",
       "      <th>54422</th>\n",
       "      <td>2015-10-05</td>\n",
       "      <td>2</td>\n",
       "      <td>239466</td>\n",
       "      <td>Cooking time inadequate. Should have been cove...</td>\n",
       "      <td>16243497</td>\n",
       "      <td>david</td>\n",
       "      <td>54505</td>\n",
       "      <td>1080</td>\n",
       "      <td>Chef John's Cranberry Bean Ragout</td>\n",
       "    </tr>\n",
       "    <tr>\n",
       "      <th>54423</th>\n",
       "      <td>2015-07-02</td>\n",
       "      <td>2</td>\n",
       "      <td>240133</td>\n",
       "      <td>I must have overcooked it.under whelming</td>\n",
       "      <td>6013253</td>\n",
       "      <td>janalee</td>\n",
       "      <td>54507</td>\n",
       "      <td>1082</td>\n",
       "      <td>Roast Quail with Cured Lemon</td>\n",
       "    </tr>\n",
       "    <tr>\n",
       "      <th>54424</th>\n",
       "      <td>2014-07-13</td>\n",
       "      <td>4</td>\n",
       "      <td>237724</td>\n",
       "      <td>This was easy to make and delicious. I subbed ...</td>\n",
       "      <td>8837240</td>\n",
       "      <td>CAN</td>\n",
       "      <td>54508</td>\n",
       "      <td>1083</td>\n",
       "      <td>Sausage-Stuffed Piquillo Peppers</td>\n",
       "    </tr>\n",
       "    <tr>\n",
       "      <th>54425</th>\n",
       "      <td>2013-01-04</td>\n",
       "      <td>5</td>\n",
       "      <td>222237</td>\n",
       "      <td>Thank you Chef John.I was looking for somethin...</td>\n",
       "      <td>2499050</td>\n",
       "      <td>gigithefoodie</td>\n",
       "      <td>54537</td>\n",
       "      <td>1112</td>\n",
       "      <td>Cotechino and Braised Beans</td>\n",
       "    </tr>\n",
       "    <tr>\n",
       "      <th>54426</th>\n",
       "      <td>2015-05-23</td>\n",
       "      <td>5</td>\n",
       "      <td>240240</td>\n",
       "      <td>Second time's a charm. I have made this twice....</td>\n",
       "      <td>2136414</td>\n",
       "      <td>coloradocookie</td>\n",
       "      <td>54538</td>\n",
       "      <td>1114</td>\n",
       "      <td>Crispy-Skin Salmon on Potato Mushroom Salad</td>\n",
       "    </tr>\n",
       "  </tbody>\n",
       "</table>\n",
       "<p>54427 rows × 9 columns</p>\n",
       "</div>"
      ],
      "text/plain": [
       "             date  rating  recipe_id  \\\n",
       "0      2012-09-11       5     222234   \n",
       "1      2012-12-25       5     222234   \n",
       "2      2012-11-22       5     222234   \n",
       "3      2015-07-07       5     222234   \n",
       "4      2016-12-31       5     222234   \n",
       "...           ...     ...        ...   \n",
       "54422  2015-10-05       2     239466   \n",
       "54423  2015-07-02       2     240133   \n",
       "54424  2014-07-13       4     237724   \n",
       "54425  2013-01-04       5     222237   \n",
       "54426  2015-05-23       5     240240   \n",
       "\n",
       "                                                  review   user_id  \\\n",
       "0      This recipe was delicious! Instead of cherry p...   3419993   \n",
       "1      Made this recipe as instructed and it was easy...   3154459   \n",
       "2      This was a great recipe to make using leftover...  10370475   \n",
       "3      Tasty , simple dessert that comes out cute as ...   2304335   \n",
       "4      Delicious!! I was pressed for time, so I didn'...   1967176   \n",
       "...                                                  ...       ...   \n",
       "54422  Cooking time inadequate. Should have been cove...  16243497   \n",
       "54423           I must have overcooked it.under whelming   6013253   \n",
       "54424  This was easy to make and delicious. I subbed ...   8837240   \n",
       "54425  Thank you Chef John.I was looking for somethin...   2499050   \n",
       "54426  Second time's a charm. I have made this twice....   2136414   \n",
       "\n",
       "             username  transformed_user_id  transformed_recipe_id  \\\n",
       "0               Pie84                    0                      0   \n",
       "1             hertzen                    1                      0   \n",
       "2             suziloo                    2                      0   \n",
       "3          Chelsea M.                    3                      0   \n",
       "4           Amanda H.                    4                      0   \n",
       "...               ...                  ...                    ...   \n",
       "54422           david                54505                   1080   \n",
       "54423         janalee                54507                   1082   \n",
       "54424             CAN                54508                   1083   \n",
       "54425   gigithefoodie                54537                   1112   \n",
       "54426  coloradocookie                54538                   1114   \n",
       "\n",
       "                                              title  \n",
       "0                                   Cherry Folditup  \n",
       "1                                   Cherry Folditup  \n",
       "2                                   Cherry Folditup  \n",
       "3                                   Cherry Folditup  \n",
       "4                                   Cherry Folditup  \n",
       "...                                             ...  \n",
       "54422             Chef John's Cranberry Bean Ragout  \n",
       "54423                 Roast Quail with Cured Lemon   \n",
       "54424              Sausage-Stuffed Piquillo Peppers  \n",
       "54425                   Cotechino and Braised Beans  \n",
       "54426  Crispy-Skin Salmon on Potato Mushroom Salad   \n",
       "\n",
       "[54427 rows x 9 columns]"
      ]
     },
     "execution_count": 22,
     "metadata": {},
     "output_type": "execute_result"
    }
   ],
   "source": [
    "train"
   ]
  },
  {
   "cell_type": "code",
   "execution_count": 23,
   "metadata": {},
   "outputs": [],
   "source": [
    "vectorizer = TfidfVectorizer(sublinear_tf=True, max_df=0.5,\n",
    "                                 stop_words='english')"
   ]
  },
  {
   "cell_type": "code",
   "execution_count": 24,
   "metadata": {},
   "outputs": [],
   "source": [
    "train_summary = vectorizer.fit_transform(train.title).toarray()\n",
    "test_summary = vectorizer.transform(test.title).toarray()"
   ]
  },
  {
   "cell_type": "code",
   "execution_count": 25,
   "metadata": {},
   "outputs": [],
   "source": [
    "user_id_train = train.transformed_user_id[:-1000]\n",
    "item_id_train = train.transformed_recipe_id[:-1000]\n",
    "train_summary = train_summary[:-1000]\n",
    "y_train = train.rating[:-1000]\n",
    "\n",
    "user_id_test = test.transformed_user_id\n",
    "item_id_test = test.transformed_recipe_id\n",
    "y_test = test.rating\n",
    "\n",
    "user_id_val = train.transformed_user_id[-1000:]\n",
    "item_id_val = train.transformed_recipe_id[-1000:]\n",
    "val_summary = train_summary[-1000:]\n",
    "y_val = train.rating[-1000:]"
   ]
  },
  {
   "cell_type": "code",
   "execution_count": 26,
   "metadata": {},
   "outputs": [
    {
     "data": {
      "text/plain": [
       "(53427, 1059)"
      ]
     },
     "execution_count": 26,
     "metadata": {},
     "output_type": "execute_result"
    }
   ],
   "source": [
    "train_summary.shape"
   ]
  },
  {
   "cell_type": "code",
   "execution_count": 27,
   "metadata": {},
   "outputs": [],
   "source": [
    "tf.keras.backend.clear_session()\n",
    "np.random.seed(42)\n",
    "tf.random.set_seed(42)\n",
    "\n",
    "item_embedding_layer = layers.Embedding(input_dim = item_vocab_size + 1, output_dim=128, input_length = None)\n",
    "item_id = keras.Input(shape=(1,), name='item_ids')\n",
    "item_embeddings = item_embedding_layer(item_id)\n",
    "item_embeddings = layers.Dropout(rate=0.3)(item_embeddings)\n",
    "item_embeddings = layers.Flatten()(item_embeddings)\n",
    "item_embeddings = keras.Model(inputs=item_id, outputs=item_embeddings)\n",
    "\n",
    "user_id = keras.Input(shape=(1,), name='user_ids')\n",
    "user_embeddings = layers.Embedding(input_dim = user_vocab_size + 1, output_dim=128, input_length = None)(user_id)\n",
    "user_embeddings = layers.Dropout(rate=0.3)(user_embeddings)\n",
    "user_embeddings = layers.Flatten()(user_embeddings)\n",
    "user_embeddings = keras.Model(inputs=user_id, outputs=user_embeddings)\n",
    "\n",
    "summary_inputs = keras.Input(shape=(train_summary.shape[1],), name='summary')\n",
    "summ = layers.Dense(128, activation='relu', name='summary_dense_1')(summary_inputs)\n",
    "summ = layers.Dropout(rate=0.2)(summ)\n",
    "summ = layers.Dense(32, activation='relu', name='summary_dense_2')(summ)\n",
    "summ = keras.Model(inputs=summary_inputs, outputs=summ)\n",
    "\n",
    "combined = layers.concatenate([user_embeddings.output, item_embeddings.output, summ.output])\n",
    "z = layers.BatchNormalization(name=\"bn_top_0\")(combined)\n",
    "z = layers.Dense(32, activation='relu', name='top_combined_dense_1')(z)\n",
    "z = layers.Dropout(rate=0.2)(z)\n",
    "z = layers.BatchNormalization(name=\"bn_top_1\")(z)\n",
    "z = layers.Dense(16, activation='relu', name='top_combined_dense_2')(z)\n",
    "z = layers.Dense(1, name='predictions')(z)\n",
    "hybrid_model = keras.Model(inputs=[user_id, item_id, summary_inputs], outputs=z)"
   ]
  },
  {
   "cell_type": "code",
   "execution_count": 28,
   "metadata": {},
   "outputs": [],
   "source": [
    "hybrid_model.compile(optimizer=keras.optimizers.Adam(learning_rate=0.001),  # Optimizer\n",
    "              # Loss function to minimize\n",
    "              loss=tf.keras.losses.MSE,  \n",
    "              # List of metrics to monitor\n",
    "              metrics= [keras.metrics.MeanSquaredError()])"
   ]
  },
  {
   "cell_type": "code",
   "execution_count": 29,
   "metadata": {},
   "outputs": [
    {
     "name": "stdout",
     "output_type": "stream",
     "text": [
      "Epoch 1/20\n",
      "54/54 [==============================] - 4s 75ms/step - loss: 13.8663 - mean_squared_error: 13.8663 - val_loss: 13.0458 - val_mean_squared_error: 13.0458\n",
      "Epoch 2/20\n",
      "54/54 [==============================] - 4s 71ms/step - loss: 3.1277 - mean_squared_error: 3.1277 - val_loss: 6.3570 - val_mean_squared_error: 6.3570\n",
      "Epoch 3/20\n",
      "54/54 [==============================] - 4s 71ms/step - loss: 1.1879 - mean_squared_error: 1.1879 - val_loss: 4.1016 - val_mean_squared_error: 4.1016\n",
      "Epoch 4/20\n",
      "54/54 [==============================] - 4s 71ms/step - loss: 0.8316 - mean_squared_error: 0.8316 - val_loss: 2.6110 - val_mean_squared_error: 2.6110\n",
      "Epoch 5/20\n",
      "54/54 [==============================] - 4s 71ms/step - loss: 0.6668 - mean_squared_error: 0.6668 - val_loss: 1.7184 - val_mean_squared_error: 1.7184\n",
      "Epoch 6/20\n",
      "54/54 [==============================] - 4s 71ms/step - loss: 0.5266 - mean_squared_error: 0.5266 - val_loss: 1.2442 - val_mean_squared_error: 1.2442\n",
      "Epoch 7/20\n",
      "54/54 [==============================] - 4s 70ms/step - loss: 0.4283 - mean_squared_error: 0.4283 - val_loss: 1.0227 - val_mean_squared_error: 1.0227\n",
      "Epoch 8/20\n",
      "54/54 [==============================] - 4s 70ms/step - loss: 0.3569 - mean_squared_error: 0.3569 - val_loss: 0.9164 - val_mean_squared_error: 0.9164\n",
      "Epoch 9/20\n",
      "54/54 [==============================] - 4s 70ms/step - loss: 0.3055 - mean_squared_error: 0.3055 - val_loss: 0.8767 - val_mean_squared_error: 0.8767\n",
      "Epoch 10/20\n",
      "54/54 [==============================] - 4s 71ms/step - loss: 0.2666 - mean_squared_error: 0.2666 - val_loss: 0.8860 - val_mean_squared_error: 0.8860\n",
      "Epoch 11/20\n",
      "54/54 [==============================] - 4s 71ms/step - loss: 0.2425 - mean_squared_error: 0.2425 - val_loss: 0.9106 - val_mean_squared_error: 0.9106\n",
      "Epoch 12/20\n",
      "54/54 [==============================] - 4s 70ms/step - loss: 0.2221 - mean_squared_error: 0.2221 - val_loss: 0.9327 - val_mean_squared_error: 0.9327\n",
      "Epoch 13/20\n",
      "54/54 [==============================] - 4s 71ms/step - loss: 0.2029 - mean_squared_error: 0.2029 - val_loss: 0.9463 - val_mean_squared_error: 0.9463\n",
      "Epoch 14/20\n",
      "54/54 [==============================] - 4s 70ms/step - loss: 0.1916 - mean_squared_error: 0.1916 - val_loss: 0.9625 - val_mean_squared_error: 0.9625\n",
      "Epoch 15/20\n",
      "54/54 [==============================] - 4s 70ms/step - loss: 0.1773 - mean_squared_error: 0.1773 - val_loss: 0.9711 - val_mean_squared_error: 0.9711\n",
      "Epoch 16/20\n",
      "54/54 [==============================] - 4s 70ms/step - loss: 0.1652 - mean_squared_error: 0.1652 - val_loss: 0.9641 - val_mean_squared_error: 0.9641\n",
      "Epoch 17/20\n",
      "54/54 [==============================] - 4s 71ms/step - loss: 0.1548 - mean_squared_error: 0.1548 - val_loss: 0.9725 - val_mean_squared_error: 0.9725\n",
      "Epoch 18/20\n",
      "54/54 [==============================] - 4s 71ms/step - loss: 0.1492 - mean_squared_error: 0.1492 - val_loss: 0.9723 - val_mean_squared_error: 0.9723\n",
      "Epoch 19/20\n",
      "54/54 [==============================] - 4s 71ms/step - loss: 0.1387 - mean_squared_error: 0.1387 - val_loss: 0.9674 - val_mean_squared_error: 0.9674\n",
      "Epoch 20/20\n",
      "54/54 [==============================] - 4s 70ms/step - loss: 0.1362 - mean_squared_error: 0.1362 - val_loss: 0.9667 - val_mean_squared_error: 0.9667\n",
      "\n",
      "history dict: {'loss': [13.86633014678955, 3.1277248859405518, 1.1879215240478516, 0.8316421508789062, 0.6667829155921936, 0.5266468524932861, 0.4283468723297119, 0.3569146990776062, 0.3055184483528137, 0.26655295491218567, 0.2425268441438675, 0.22211511433124542, 0.20293638110160828, 0.19158945977687836, 0.17734265327453613, 0.1651856154203415, 0.15484431385993958, 0.14921505749225616, 0.13868504762649536, 0.13620835542678833], 'mean_squared_error': [13.86633014678955, 3.1277248859405518, 1.1879215240478516, 0.8316421508789062, 0.6667829155921936, 0.5266468524932861, 0.4283468723297119, 0.3569146990776062, 0.3055184483528137, 0.26655295491218567, 0.2425268441438675, 0.22211511433124542, 0.20293638110160828, 0.19158945977687836, 0.17734265327453613, 0.1651856154203415, 0.15484431385993958, 0.14921505749225616, 0.13868504762649536, 0.13620835542678833], 'val_loss': [13.045835494995117, 6.357044696807861, 4.101574420928955, 2.6110482215881348, 1.7184005975723267, 1.2441554069519043, 1.0226953029632568, 0.9164276123046875, 0.8767102956771851, 0.8859944939613342, 0.910627543926239, 0.9326698184013367, 0.9462710022926331, 0.9625089764595032, 0.9711035490036011, 0.9641159772872925, 0.9725018739700317, 0.9722849130630493, 0.9674392342567444, 0.9666879773139954], 'val_mean_squared_error': [13.045835494995117, 6.357044696807861, 4.101574420928955, 2.6110482215881348, 1.7184005975723267, 1.2441554069519043, 1.0226953029632568, 0.9164276123046875, 0.8767102956771851, 0.8859944939613342, 0.910627543926239, 0.9326698184013367, 0.9462710022926331, 0.9625089764595032, 0.9711035490036011, 0.9641159772872925, 0.9725018739700317, 0.9722849130630493, 0.9674392342567444, 0.9666879773139954]}\n"
     ]
    }
   ],
   "source": [
    "keras.backend.clear_session()\n",
    "# del model\n",
    "history = hybrid_model.fit([user_id_train, item_id_train, train_summary], y_train,\n",
    "                    batch_size=1000,\n",
    "                    epochs=20,\n",
    "                    # We pass some validation for\n",
    "                    # monitoring validation loss and metrics\n",
    "                    # at the end of each epoch\n",
    "                    validation_data=([user_id_val, item_id_val, val_summary], y_val)\n",
    "                   )\n",
    "print('\\nhistory dict:', history.history)"
   ]
  },
  {
   "cell_type": "markdown",
   "metadata": {},
   "source": [
    "### Evaluation"
   ]
  },
  {
   "cell_type": "markdown",
   "metadata": {},
   "source": [
    "#### Training metrics"
   ]
  },
  {
   "cell_type": "code",
   "execution_count": 30,
   "metadata": {},
   "outputs": [],
   "source": [
    "predictions = hybrid_model.predict([user_id_train, item_id_train, train_summary])"
   ]
  },
  {
   "cell_type": "code",
   "execution_count": 31,
   "metadata": {},
   "outputs": [
    {
     "name": "stdout",
     "output_type": "stream",
     "text": [
      "train rmse: 0.25392357373812124\n"
     ]
    }
   ],
   "source": [
    "print(\"train rmse:\", math.sqrt(mean_squared_error(y_train, predictions)))"
   ]
  },
  {
   "cell_type": "markdown",
   "metadata": {},
   "source": [
    "#### Test metrics"
   ]
  },
  {
   "cell_type": "code",
   "execution_count": 32,
   "metadata": {},
   "outputs": [],
   "source": [
    "predictions = hybrid_model.predict([user_id_test, item_id_test, test_summary])"
   ]
  },
  {
   "cell_type": "code",
   "execution_count": 33,
   "metadata": {},
   "outputs": [
    {
     "name": "stdout",
     "output_type": "stream",
     "text": [
      "test rmse: 0.7529374208898267\n"
     ]
    }
   ],
   "source": [
    "print(\"test rmse:\", math.sqrt(mean_squared_error(y_test, predictions)))"
   ]
  },
  {
   "cell_type": "code",
   "execution_count": null,
   "metadata": {},
   "outputs": [],
   "source": []
  },
  {
   "cell_type": "code",
   "execution_count": null,
   "metadata": {},
   "outputs": [],
   "source": []
  }
 ],
 "metadata": {
  "kernelspec": {
   "display_name": "Python 3",
   "language": "python",
   "name": "python3"
  },
  "language_info": {
   "codemirror_mode": {
    "name": "ipython",
    "version": 3
   },
   "file_extension": ".py",
   "mimetype": "text/x-python",
   "name": "python",
   "nbconvert_exporter": "python",
   "pygments_lexer": "ipython3",
   "version": "3.6.12"
  }
 },
 "nbformat": 4,
 "nbformat_minor": 4
}
